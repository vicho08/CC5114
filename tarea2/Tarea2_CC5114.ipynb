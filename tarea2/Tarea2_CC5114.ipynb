{
  "nbformat": 4,
  "nbformat_minor": 0,
  "metadata": {
    "colab": {
      "name": "Tarea2- CC5114.ipynb",
      "provenance": [],
      "collapsed_sections": []
    },
    "kernelspec": {
      "name": "python3",
      "display_name": "Python 3"
    }
  },
  "cells": [
    {
      "cell_type": "code",
      "metadata": {
        "id": "7yP_OVjOLLxO",
        "colab_type": "code",
        "colab": {}
      },
      "source": [
        "import operator, random, string\n",
        "import matplotlib.pyplot as plt"
      ],
      "execution_count": 0,
      "outputs": []
    },
    {
      "cell_type": "code",
      "metadata": {
        "id": "JZ0hyudlBtcW",
        "colab_type": "code",
        "colab": {}
      },
      "source": [
        "def generate_char():\n",
        "  return random.choice(string.ascii_lowercase)\n",
        "\n",
        "def generate_word(n):\n",
        "  word = \"\"\n",
        "  for x in range(n):\n",
        "    word += generate_char()\n",
        "  return word\n",
        "  "
      ],
      "execution_count": 0,
      "outputs": []
    },
    {
      "cell_type": "code",
      "metadata": {
        "id": "ILv8p5aqQNQL",
        "colab_type": "code",
        "colab": {}
      },
      "source": [
        "\n",
        "\n",
        "def fitness(individual, goal):\n",
        "  points = 0\n",
        "  for i in range(len(goal)):\n",
        "    if individual[i] == goal[i]:\n",
        "      points = points +1\n",
        "  return points\n",
        "\n",
        "def rank(population, fitness, goal):\n",
        "  fitnessResults = {}\n",
        "  for i in range(0,len(population)):\n",
        "    fitnessResults[i] = fitness(population[i], goal)\n",
        "  return sorted(fitnessResults.items(), key = operator.itemgetter(1), reverse = True)\n",
        "  "
      ],
      "execution_count": 0,
      "outputs": []
    },
    {
      "cell_type": "code",
      "metadata": {
        "id": "gtMQbua36rZA",
        "colab_type": "code",
        "colab": {}
      },
      "source": [
        "#Retorna una lista de los indices de los individuos seleccionados que dejaran herencia\n",
        "#ranking: lista de los individuos rankeados (indice, fitness)\n",
        "#elite: elitimismo\n",
        "def selection(ranking, elite):\n",
        "    selection = []\n",
        "    suma = 0\n",
        "    #Ruleta\n",
        "    for i in range(len(ranking)):\n",
        "      suma += ranking[i][1]\n",
        "      \n",
        "    for i in range(0, elite):\n",
        "        selection.append(ranking[i][0])\n",
        "        \n",
        "    for i in range(0, len(ranking) - elite):\n",
        "      current = 0\n",
        "      p = random.uniform(0, suma)\n",
        "      for i in range(0, len(ranking)):\n",
        "        current += ranking[i][1]\n",
        "        if current > p:\n",
        "          selection.append(ranking[i][0])\n",
        "          break\n",
        "    return selection\n",
        "\n",
        "#Retorna lista definitiva de los elementos seleccionados para dejar una nueva generacion\n",
        "def selectionPopulation(population, selection):\n",
        "  parents = []\n",
        "  \n",
        "  for i in range(len(selection)):\n",
        "    index = selection[i]\n",
        "    parents.append(population[index])\n",
        "    \n",
        "  return parents\n",
        "\n",
        "\n",
        "#REPRODUCCION\n",
        "def crossover(parent1, parent2):\n",
        "  if(type(parent1)== str):\n",
        "    child = \"\"\n",
        "  else:\n",
        "    child = []\n",
        "  \n",
        "  #genes para particion\n",
        "  genA = int(random.random() * len(parent1))\n",
        "  genB = int(random.random() * len(parent1))\n",
        "  \n",
        "  start = min(genA, genB)\n",
        "  end = max(genA, genB)\n",
        "  \n",
        "  if(type(parent1)== str):\n",
        "    for i in range(0, start):\n",
        "      child += parent1[i]\n",
        "\n",
        "    for i in range (start, end):\n",
        "      child += parent2[i]\n",
        "\n",
        "    for i in range (end, len(parent1)):\n",
        "      child += parent1[i]\n",
        "  else:\n",
        "    for i in range(0, start):\n",
        "      child.append(parent1[i])\n",
        "\n",
        "    for i in range (start, end):\n",
        "      child.append(parent2[i])\n",
        "\n",
        "    for i in range (end, len(parent1)):\n",
        "      child.append(parent1[i])\n",
        "  \n",
        "  return child\n",
        " \n",
        "#retorna poblacion de descendientes  \n",
        "def crossoverPopulation(parents, elite):\n",
        "  children = []\n",
        "  length = len(parents) - elite\n",
        "  random_parents = random.sample(parents, len(parents))\n",
        "\n",
        "  for i in range(0,elite):\n",
        "    children.append(parents[i])\n",
        "    \n",
        "  for i in range(0, length):\n",
        "    child = crossover(random_parents[i], random_parents[len(parents) -i -1])\n",
        "    children.append(child)\n",
        "  return children\n",
        "  "
      ],
      "execution_count": 0,
      "outputs": []
    },
    {
      "cell_type": "code",
      "metadata": {
        "id": "O9-8HJDhFVRm",
        "colab_type": "code",
        "colab": {}
      },
      "source": [
        "#Muta un individuo\n",
        "#mutatioRate = tasa de mutacion\n",
        "#generate_gen = generador de genes\n",
        "\n",
        "def mutate(individual, generate_gen, mutationRate):\n",
        "  \n",
        "  l = list(individual)\n",
        "    \n",
        "  for char in range(len(l)):\n",
        "    if(random.random()<mutationRate):\n",
        "      swap_char = generate_gen()\n",
        "      l[char] = swap_char\n",
        " \n",
        "  return \"\".join(l)\n",
        "\n",
        "#Mutacion de una poblacion\n",
        "def mutatePopulation(population, generate_gen, mutationRate):\n",
        "  mutated = []\n",
        "  \n",
        "  for i in range(len(population)):\n",
        "    mutated.append(mutate(population[i], generate_gen, mutationRate))\n",
        "    \n",
        "  return mutated"
      ],
      "execution_count": 0,
      "outputs": []
    },
    {
      "cell_type": "code",
      "metadata": {
        "id": "66jcLWApaQ6k",
        "colab_type": "code",
        "colab": {}
      },
      "source": [
        "#Avanze de una generacion completo\n",
        "def evolution(currentPopulation, generate_gen, fitness, elite, mutationRate, goal):\n",
        "  ranking = rank(currentPopulation, fitness, goal)\n",
        "  selected = selection(ranking, elite)\n",
        "  parents = selectionPopulation(currentPopulation, selected)\n",
        "  children = crossoverPopulation(parents, elite)\n",
        "  nextPopulation = mutatePopulation(children, generate_gen, mutationRate)\n",
        "  return nextPopulation\n",
        "\n",
        "def average(ranking):\n",
        "  suma = 0\n",
        "  for i in range(len(ranking)):\n",
        "    suma += ranking[i][1]\n",
        "  return suma/ len(ranking)\n",
        "\n",
        "def genetic_algorithm(pop_size, fitness, generate_gen, generate_ind, elite, mutationRate, generations, goal=None, heatmap=False):\n",
        "  population = []\n",
        "  progress = []\n",
        "  worse = []\n",
        "  avg = []\n",
        "  \n",
        "  N = float('inf')  \n",
        "  \n",
        "  if goal is not None:\n",
        "    N = len(goal)  \n",
        "    \n",
        "  for i in range(0,pop_size):\n",
        "    population.append(generate_ind(N))\n",
        "      \n",
        "  \n",
        "  initialRank = rank(population, fitness, goal)\n",
        "  progress.append(initialRank[0][1])\n",
        "  worse.append(initialRank[-1][1])\n",
        "  avg.append(average(initialRank))\n",
        "  \n",
        "  generation = generations\n",
        "  for i in range(0, generations):\n",
        "    population = evolution(population, generate_gen, fitness, elite, mutationRate, goal)\n",
        "    currentRank = rank(population, fitness, goal)\n",
        "    progress.append(currentRank[0][1])\n",
        "    worse.append(currentRank[-1][1])\n",
        "    avg.append(average(currentRank))\n",
        "    if(currentRank[0][1] == N):\n",
        "      generation = i\n",
        "      break\n",
        "    \n",
        "  if(heatmap):\n",
        "    return generation\n",
        "  else:\n",
        "    print(population[currentRank[0][0]])\n",
        "    plt.plot(progress, \"b\", label=\"Progress\")\n",
        "    plt.plot(avg, \"g\", label=\"Average\")\n",
        "    plt.plot(worse, \"r\", label=\"Worse\")\n",
        "    plt.ylabel('Value')\n",
        "    plt.xlabel('Generation')\n",
        "    plt.title(\"Máximo, Mínimo y Promedio en el tiempo\")\n",
        "\n",
        "    legend = plt.legend(loc='best', shadow=True)\n",
        "\n",
        "    # Put a nicer background color on the legend.\n",
        "    plt.show()\n",
        "    \n",
        "  "
      ],
      "execution_count": 0,
      "outputs": []
    },
    {
      "cell_type": "code",
      "metadata": {
        "id": "oHaH6xcJfXU7",
        "colab_type": "code",
        "outputId": "64d13d90-0fab-444d-e670-c566d9cfff7a",
        "colab": {
          "base_uri": "https://localhost:8080/",
          "height": 312
        }
      },
      "source": [
        "genetic_algorithm(pop_size=50, fitness=fitness, generate_gen=generate_char, generate_ind=generate_word, elite=10, mutationRate=0.15, generations=200, goal= \"helloworld\")"
      ],
      "execution_count": 248,
      "outputs": [
        {
          "output_type": "stream",
          "text": [
            "helloworld\n"
          ],
          "name": "stdout"
        },
        {
          "output_type": "display_data",
          "data": {
            "image/png": "[encoded data removed]",
            "text/plain": [
              "<Figure size 432x288 with 1 Axes>"
            ]
          },
          "metadata": {
            "tags": []
          }
        }
      ]
    },
    {
      "cell_type": "markdown",
      "metadata": {
        "id": "MEXz7Gc7mefK",
        "colab_type": "text"
      },
      "source": [
        "### Ejercicios\n",
        "\n",
        "#### 1. Secuencia de bits\n",
        "\n"
      ]
    },
    {
      "cell_type": "code",
      "metadata": {
        "id": "hcsgHWlxmxo2",
        "colab_type": "code",
        "colab": {}
      },
      "source": [
        "def generate_bit():\n",
        "  if(random.random() >= 0.5):\n",
        "    return \"1\"\n",
        "  else:\n",
        "    return \"0\"\n",
        "  \n",
        "def generate_sequence(n):\n",
        "  seq = \"\"\n",
        "  for x in range(n):\n",
        "    seq += generate_bit()\n",
        "  return seq\n",
        "  \n",
        "\n",
        "def fitness_bits(sequence, goal):\n",
        "  points = 0\n",
        "  for i in range(len(goal)):\n",
        "    if sequence[i] == goal[i]:\n",
        "      points = points +1\n",
        "  return points"
      ],
      "execution_count": 0,
      "outputs": []
    },
    {
      "cell_type": "code",
      "metadata": {
        "id": "vbb_ABGO0pei",
        "colab_type": "code",
        "colab": {}
      },
      "source": [
        "#genetic_algorithm(pop_size=100, fitness=fitness_bits, generate_gen=generate_bit,generate_ind= generate_sequence, elite=20, mutationRate=0.1, generations=150, goal=\"00101010110101\")"
      ],
      "execution_count": 0,
      "outputs": []
    },
    {
      "cell_type": "markdown",
      "metadata": {
        "id": "mprEY2rIH-Oe",
        "colab_type": "text"
      },
      "source": [
        "## Problema: Unbound-Knapsack "
      ]
    },
    {
      "cell_type": "code",
      "metadata": {
        "id": "bGEtKZBlIEpC",
        "colab_type": "code",
        "colab": {}
      },
      "source": [
        "#Gen: cantidad de un determinado item que se agrega a la mochila\n",
        "#Individuo: combinacion de todos los items que se agregaran a la mochila\n",
        "\n",
        "C = 15 #peso maximo mochila\n",
        "\n",
        "class Item:\n",
        "  def __init__(self, weight, value):\n",
        "    self.w = weight\n",
        "    self.v = value\n",
        "    \n",
        "#items disponibles\n",
        "items = [Item(12, 4), Item(2,2), Item(1,2), Item(1,1), Item(4, 10)] \n",
        "\n",
        "#generador de genes\n",
        "def generate_count(item, limit):\n",
        "  return int(random.uniform(0, int(limit/item.w)+1)) #Como un item i pesa w, a lo mas se pueden colocar int(C/w) items i\n",
        "\n",
        "\n",
        "#Generador de individuos\n",
        "#Si la combinacion supera el peso maximo (C), se quita un item al azar hasta que se cumpla la restriccion\n",
        "def generate_combination():\n",
        "  comb = []\n",
        "  for item in items:\n",
        "    comb.append(generate_count(item, C))\n",
        "  \n",
        "  while(restrictionWeight(comb, C) is False):\n",
        "    target = int(random.uniform(0,5))\n",
        "    comb[target] = max(0, comb[target]-1)\n",
        "  return comb\n",
        "\n",
        "\n",
        "    \n",
        "def restrictionWeight(combination, limit):\n",
        "  sum = 0\n",
        "  for i in range(0, len(items)):\n",
        "    sum+= int(combination[i])*items[i].w\n",
        "  \n",
        "  return limit >= sum\n",
        "\n",
        "\n",
        "\n",
        "def fitness_items(combination, goal=None):\n",
        "  points = 0\n",
        "  for i in range(0,len(combination)):\n",
        "    points += combination[i]* items[i].v\n",
        "    \n",
        "  return points\n",
        "  \n",
        "  "
      ],
      "execution_count": 0,
      "outputs": []
    },
    {
      "cell_type": "code",
      "metadata": {
        "id": "VeEUrdM1ADzQ",
        "colab_type": "code",
        "colab": {}
      },
      "source": [
        "def mutateUnbound(individual, generate_gen, mutationRate):\n",
        "  l = individual\n",
        "    \n",
        "  for char in range(len(l)):\n",
        "    if(random.random()<mutationRate):\n",
        "      swap_char = generate_gen(items[char],C)\n",
        "      l[char] = swap_char\n",
        "  \n",
        "  while(restrictionWeight(l, C) is False):\n",
        "    target = int(random.uniform(0,5))\n",
        "    l[target] = max(0, l[target]-1)\n",
        "  return l\n",
        "\n",
        "#Mutacion de una poblacion\n",
        "def mutatePopulationUnbound(population, generate_gen, mutationRate):\n",
        "  mutated = []\n",
        "  \n",
        "  for i in range(len(population)):\n",
        "    mutated.append(mutateUnbound(population[i], generate_gen, mutationRate))  \n",
        "  return mutated"
      ],
      "execution_count": 0,
      "outputs": []
    },
    {
      "cell_type": "code",
      "metadata": {
        "id": "rtTaJEhB_9c0",
        "colab_type": "code",
        "colab": {}
      },
      "source": [
        "def evolution_unbound(currentPopulation, generate_gen, fitness, elite, mutationRate, goal):\n",
        "  ranking = rank(currentPopulation, fitness, goal)\n",
        "  selected = selection(ranking, elite)\n",
        "  parents = selectionPopulation(currentPopulation, selected)\n",
        "  children = crossoverPopulation(parents, elite)\n",
        "  nextPopulation = mutatePopulationUnbound(children, generate_gen, mutationRate)\n",
        "  return nextPopulation"
      ],
      "execution_count": 0,
      "outputs": []
    },
    {
      "cell_type": "code",
      "metadata": {
        "id": "9T6KowYx_vRI",
        "colab_type": "code",
        "colab": {}
      },
      "source": [
        "def genetic_algorithm_unbound(pop_size, fitness, generate_gen, generate_ind, elite, mutationRate, generations, goal=None):\n",
        "  population = []\n",
        "  progress = []\n",
        "  worse = []\n",
        "  avg = []\n",
        "  \n",
        "  N = float('inf')  \n",
        "  \n",
        "  if goal is not None:\n",
        "    N = len(goal)  \n",
        "    \n",
        "  for i in range(0,pop_size):\n",
        "      population.append(generate_ind())\n",
        "    \n",
        "  initialRank = rank(population, fitness, goal)\n",
        "  progress.append(initialRank[0][1])\n",
        "  worse.append(initialRank[-1][1])\n",
        "  avg.append(average(initialRank))\n",
        "  \n",
        "  for i in range(0, generations):\n",
        "    population = evolution_unbound(population, generate_gen, fitness, elite, mutationRate, goal)\n",
        "    currentRank = rank(population, fitness, goal)\n",
        "    progress.append(currentRank[0][1])\n",
        "    worse.append(currentRank[-1][1])\n",
        "    avg.append(average(currentRank))\n",
        "    \n",
        "  \n",
        "  \n",
        "  print(population[currentRank[0][0]])\n",
        "      \n",
        "    \n",
        "  \n",
        "  plt.plot(progress, \"b\", label=\"Progress\")\n",
        "  plt.plot(avg, \"g\", label=\"Average\")\n",
        "  plt.plot(worse, \"r\", label=\"Worse\")\n",
        "  plt.ylabel('Value')\n",
        "  plt.xlabel('Generation')\n",
        "  plt.title(\"Máximo, Mínimo y Promedio en el tiempo\")\n",
        "  \n",
        "  legend = plt.legend(loc='best', shadow=True)\n",
        "\n",
        "  plt.show()"
      ],
      "execution_count": 0,
      "outputs": []
    },
    {
      "cell_type": "code",
      "metadata": {
        "id": "nBEeyTRp0NFX",
        "colab_type": "code",
        "colab": {}
      },
      "source": [
        "#genetic_algorithm_unbound(pop_size=15, fitness=fitness_items, generate_gen=generate_count,generate_ind= generate_combination, elite=5, mutationRate=0.1, generations=100, goal=\"None\")"
      ],
      "execution_count": 0,
      "outputs": []
    },
    {
      "cell_type": "code",
      "metadata": {
        "id": "E9yUh0FHXxFL",
        "colab_type": "code",
        "colab": {}
      },
      "source": [
        "def heatmap():\n",
        "  i = 50\n",
        "  size = []\n",
        "  generations = []\n",
        "  while(i <= 1000):\n",
        "    size.append(i)\n",
        "    generations.append(genetic_algorithm(pop_size=i, fitness=fitness, generate_gen=generate_char, generate_ind=generate_word, elite=10, mutationRate=0.15, generations=200, goal= \"helloworld\", heatmap=True))\n",
        "    i += 50\n",
        "    \n",
        "  plt.plot(size, generations,color='r', label='Tiempo')\n",
        "  plt.ylabel('Generation')\n",
        "  plt.xlabel('Population Size')\n",
        "  plt.title(\"Generación de éxito v/s tamaño de la población\")\n",
        "  \n",
        "  plt.show()"
      ],
      "execution_count": 0,
      "outputs": []
    },
    {
      "cell_type": "code",
      "metadata": {
        "id": "AM1fAoshaqLk",
        "colab_type": "code",
        "colab": {
          "base_uri": "https://localhost:8080/",
          "height": 295
        },
        "outputId": "3813c0d5-4729-4079-94d6-158ef6234ff5"
      },
      "source": [
        "heatmap()"
      ],
      "execution_count": 257,
      "outputs": [
        {
          "output_type": "display_data",
          "data": {
            "image/png": "[encoded data removed]",
            "text/plain": [
              "<Figure size 432x288 with 1 Axes>"
            ]
          },
          "metadata": {
            "tags": []
          }
        }
      ]
    },
    {
      "cell_type": "code",
      "metadata": {
        "id": "5lFLlEanbHQz",
        "colab_type": "code",
        "colab": {}
      },
      "source": [
        "def heatmap2():\n",
        "  i = 0.1\n",
        "  size = []\n",
        "  generations = []\n",
        "  while(i <= 1):\n",
        "    size.append(i)\n",
        "    generations.append(genetic_algorithm(pop_size= 50, fitness=fitness, generate_gen=generate_char, generate_ind=generate_word, elite=10, mutationRate=i, generations=300, goal= \"helloworld\", heatmap=True))\n",
        "    i += 0.1\n",
        "    \n",
        "  plt.plot(size, generations,color='r', label='Tiempo')\n",
        "  plt.ylabel('Generation')\n",
        "  plt.xlabel('Mutation Rate')\n",
        "  plt.title(\"Generación de éxito v/s tasa de mutación\")\n",
        "  \n",
        "  plt.show()"
      ],
      "execution_count": 0,
      "outputs": []
    },
    {
      "cell_type": "code",
      "metadata": {
        "id": "4qKeP5qfbZ4h",
        "colab_type": "code",
        "colab": {
          "base_uri": "https://localhost:8080/",
          "height": 295
        },
        "outputId": "963f0bce-1e94-4a5b-c4da-203c14ee47cf"
      },
      "source": [
        "heatmap2()"
      ],
      "execution_count": 259,
      "outputs": [
        {
          "output_type": "display_data",
          "data": {
            "image/png": "[encoded data removed]",
            "text/plain": [
              "<Figure size 432x288 with 1 Axes>"
            ]
          },
          "metadata": {
            "tags": []
          }
        }
      ]
    }
  ]
}
{
 "cells": [
  {
   "cell_type": "markdown",
   "metadata": {
    "colab_type": "text",
    "id": "4zhjpqvcdo5o"
   },
   "source": [
    "# Tarea 1: Entrenar una red Neuronal\n",
    "Nombre: Vicente Illanes"
   ]
  },
  {
   "cell_type": "markdown",
   "metadata": {
    "colab_type": "text",
    "id": "2xbEy3Php0a2"
   },
   "source": [
    "# Parte 1: Neuronas"
   ]
  },
  {
   "cell_type": "code",
   "execution_count": 1,
   "metadata": {},
   "outputs": [],
   "source": [
    "import random\n",
    "import numpy as np\n",
    "\n",
    "#Clase Perceptron\n",
    "class Neuron:\n",
    "    #Contructor de la clase\n",
    "    #num_w: numero de pesos (uno por cada input)\n",
    "    #fun: función de activación\n",
    "    def __init__(self, num_w, fun):\n",
    "        ws = []\n",
    "        for i in range(num_w):\n",
    "            v = round(random.random(),4)\n",
    "            ws.append(-1 + (2*v)) #valores entre -1 y 1\n",
    "        self.w= ws\n",
    "        b =random.random()\n",
    "        self.b = -2 + (4*b)\n",
    "        self.f = fun\n",
    "        self.delta = 0.0\n",
    "        \n",
    "    \n",
    "    \n",
    "    def feed(self, x):\n",
    "        #prediccion de la neurona: f(wx + b) = pred\n",
    "        #se revisa que entrada sea una lista numerica y coincida con el largo de la lista de pesos\n",
    "        if(len(self.w)==len(x)):\n",
    "            try: \n",
    "                sum = 0\n",
    "                for i in range(len(self.w)):\n",
    "                    sum = sum + self.w[i]*x[i]\n",
    "                sum = sum + self.b\n",
    "                self.output= self.f.apply(sum)\n",
    "                return self.output\n",
    "            except:\n",
    "                print(\"Valores del input deben ser numericos\")\n",
    "        else:\n",
    "            print(\"No coinciden largos del input y la cantidad de pesos de la neurona\")\n",
    "    \n",
    "    def train(self, x, real):\n",
    "        #training de la neurona\n",
    "        pred = self.feed(x)\n",
    "        diff = pred - real\n",
    "        lr = 0.1\n",
    "        if(diff!=0):        \n",
    "            for i in range(len(self.w)):\n",
    "                self.w[i] = self.w[i] + (lr * x[i] * diff)\n",
    "            self.b = self.b + (lr * diff)\n",
    "            \n",
    "    def getW(self):\n",
    "        return self.w\n",
    "    \n",
    "    def get_w(self, j):\n",
    "        return self.w[j]\n",
    "    \n",
    "    def set_w(self, j, value):\n",
    "        self.w[j] = self.w[j] + value\n",
    "    \n",
    "    def getBias(self):\n",
    "        return self.b\n",
    "    \n",
    "    def setBias(self, value):\n",
    "        self.b = self.b + value\n",
    "    \n",
    "    def transferDerivate(self, output):\n",
    "        return self.f.derivate(output)\n",
    "    \n",
    "    def setDelta(self, value):\n",
    "        self.delta = self.delta + value\n",
    "        \n",
    "    def getDelta(self):\n",
    "        return self.delta \n",
    "        \n",
    "    def getOutput(self):\n",
    "        return self.output\n",
    "\n",
    "            \n"
   ]
  },
  {
   "cell_type": "markdown",
   "metadata": {},
   "source": [
    "# Parte 2: Capas de Neuronas"
   ]
  },
  {
   "cell_type": "code",
   "execution_count": 2,
   "metadata": {
    "colab": {
     "base_uri": "https://localhost:8080/",
     "height": 50
    },
    "colab_type": "code",
    "id": "mQmdJbPEvjKQ",
    "outputId": "44ba869d-5ca6-4940-c5da-3aa55c8f52e0"
   },
   "outputs": [],
   "source": [
    "\n",
    "#Clase para una capa de la red neuronal\n",
    "#se crea a partir de un numero de imputs, neuronas y una funcion de activacion \n",
    "#(que es la misma para todas las neuronas de la capa)\n",
    "class NeuronLayer:\n",
    "    #Constructor\n",
    "    #x_size: tamaño del input\n",
    "    #numero de neuronas en la capa\n",
    "    #fun_act: función de activación\n",
    "    def __init__(self, x_size, num_neuron, fun_act):\n",
    "        self.input = x_size\n",
    "        self.list_neurons = []\n",
    "        for i in range(num_neuron):\n",
    "            self.list_neurons.append(Neuron(x_size, fun_act))\n",
    "        \n",
    "        self.isOutputLayer = 0 #variable importante para Backpropagation\n",
    "            \n",
    "    def feed(self, x):\n",
    "        if(len(x)== self.input):\n",
    "            y = []\n",
    "            for i in range(len(self.list_neurons)):\n",
    "                y.append(self.list_neurons[i].feed(x))\n",
    "            return y\n",
    "        else:\n",
    "            print(\"No coinciden largos del input y la cantidad de pesos de la neurona\")\n",
    "            \n",
    "    def getNeurons(self):\n",
    "        return self.list_neurons\n",
    "    \n",
    "           \n",
    "           \n",
    "    \n",
    "    \n",
    "    \n",
    "        \n",
    "\n",
    "        \n",
    "            "
   ]
  },
  {
   "cell_type": "code",
   "execution_count": 9,
   "metadata": {},
   "outputs": [],
   "source": [
    "         \n",
    "class NeuronNetwork:\n",
    "    def __init__(self, num_layers, list_neuron, x_size, y_size, list_functions):\n",
    "        \n",
    "        layers = [x_size] + list_neuron \n",
    "        \n",
    "        self.layers =[]\n",
    "        for i in range(0, num_layers):\n",
    "            if(i == num_layers-1):\n",
    "                self.layers.append(NeuronLayer(list_neuron[-1], y_size, list_functions[-1]))\n",
    "            else:\n",
    "                self.layers.append(NeuronLayer(layers[i], layers[i+1], list_functions[i]))\n",
    "                  \n",
    "    \n",
    "    def feed(self, x):\n",
    "        h = x\n",
    "        for i in range(len(self.layers)):\n",
    "            h = self.layers[i].feed(h)\n",
    "        return h\n",
    "    \n",
    "    def backpropagation(self, y):\n",
    "        network = self.layers\n",
    "        for i in reversed(range(len(network))):\n",
    "            layer = network[i]\n",
    "            neurons = layer.getNeurons()\n",
    "            if i != len(network)-1: \n",
    "                #Caso Hidden Layer\n",
    "                for j in range(len(neurons)):\n",
    "                    error = 0.0\n",
    "                    for neuron in network[i+1].getNeurons():\n",
    "                        error += (neuron.get_w(j) * neuron.getDelta())\n",
    "                    neuron = neurons[j]\n",
    "                    output = neuron.getOutput()\n",
    "                    neuron.setDelta(error * neuron.transferDerivate(output))\n",
    "            else: \n",
    "                #Caso OutputLayer\n",
    "                for j in range(len(neurons)):\n",
    "                    neuron = neurons[j]\n",
    "                    output = neuron.getOutput()\n",
    "                    error =(y[j] - output)\n",
    "                    neuron.setDelta(error * neuron.transferDerivate(output))        \n",
    "            \n",
    "    def update_parameters(self, x, lr):\n",
    "        network= self.layers\n",
    "        inputs = x\n",
    "        for i in range(len(network)):\n",
    "            neurons = network[i].getNeurons()\n",
    "            outputs = []\n",
    "            for neuron in neurons:\n",
    "                weights = neuron.getW()\n",
    "                for j in range(len(weights)):\n",
    "                    neuron.set_w(j, lr * neuron.getDelta() * inputs[i])\n",
    "                    neuron.setBias(lr * neuron.getDelta())\n",
    "                \n",
    "                output = neuron.getOutput()\n",
    "                outputs.append(output)\n",
    "            inputs = outputs\n",
    "            \n",
    "    def train_network(self, inputs, expected, lr, n_epoch, safe=True):\n",
    "        for epoch in range(n_epoch):\n",
    "            sum_error = 0.0\n",
    "            for i in range(2):\n",
    "                outputs = self.feed(inputs[i])\n",
    "                max = -1\n",
    "                j=-1\n",
    "                y_real =[0, 0, 0]\n",
    "                y_real[expected[i][0]]=1                \n",
    "                for i in range(len(y_real)):\n",
    "                    if safe:\n",
    "                        sum_error += (y_real[i]-outputs[i])**2\n",
    "            \n",
    "                self.backpropagation(y_real)\n",
    "                self.update_parameters(inputs[i], lr)\n",
    "            print('>epoch=%d, lrate=%.3f, error=%.3f' % (epoch, lr, sum_error/len(inputs)))\n",
    "                    \n",
    "            \n",
    "\n",
    "\n"
   ]
  },
  {
   "cell_type": "markdown",
   "metadata": {},
   "source": [
    "# Funciones de Activación"
   ]
  },
  {
   "cell_type": "code",
   "execution_count": 10,
   "metadata": {},
   "outputs": [],
   "source": [
    "import math\n",
    "#función escalon\n",
    "class Step:\n",
    "    def apply(self, x):\n",
    "        if (x>=0):\n",
    "            return 1\n",
    "        else:\n",
    "            return 0\n",
    "\n",
    "#funcion sigmoid\n",
    "class Sigmoid :\n",
    "    def apply (self, x):\n",
    "        return 1 / (1 + math.exp(-x))\n",
    "\n",
    "    def derivate (self, x):\n",
    "        return self.apply(x) * (1 - self.apply (x))\n",
    "    \n",
    "class Tanh:\n",
    "    def apply(self, x):\n",
    "        return (math.exp(x) - math.exp(-x))/(math.exp(x) + math.exp(-x))\n",
    "    \n",
    "    def derivate(self,x):\n",
    "        return 1 - (self.apply(x)*self.apply(x))\n"
   ]
  },
  {
   "cell_type": "markdown",
   "metadata": {},
   "source": [
    "# Dataset"
   ]
  },
  {
   "cell_type": "markdown",
   "metadata": {},
   "source": [
    "### Carga de datos, normalización y one hot encoding"
   ]
  },
  {
   "cell_type": "code",
   "execution_count": 11,
   "metadata": {
    "colab": {},
    "colab_type": "code",
    "id": "4VtQWFePbtrF"
   },
   "outputs": [],
   "source": [
    "import pandas as pd\n",
    "data = pd.read_csv('iris.data', sep=\",\")\n",
    "data.columns = [\"sepal length\",\"sepal width\", \"petal length\", \"petal width\", \"class\"]\n",
    "data[\"class\"] = data[\"class\"].map(lambda x: 0 if x ==\"Iris-setosa\" else 1 if x == \"Iris-versicolour\" else 2 if x == \"Iris-virginica\" else -1)\n",
    "\n",
    "data_normalized = data\n",
    "max = data.max()\n",
    "min = data.min()\n",
    "for column in data.columns:\n",
    "    if(column != \"class\"):\n",
    "        data_normalized[column] = data[column].map(lambda x: round((x - min[column])/(max[column]-min[column]),4))\n",
    "        \n",
    "X = data_normalized[[\"sepal length\",\"sepal width\", \"petal length\", \"petal width\"]]\n",
    "Y = data_normalized[[\"class\"]]\n",
    "        "
   ]
  },
  {
   "cell_type": "code",
   "execution_count": 12,
   "metadata": {
    "cellView": "code",
    "colab": {},
    "colab_type": "code",
    "id": "5hVvsHp-dGk4"
   },
   "outputs": [],
   "source": [
    "from sklearn.model_selection import train_test_split\n",
    "X_train, X_test, y_train, y_test = train_test_split(X, Y, test_size=.25, random_state=13, stratify=Y)"
   ]
  },
  {
   "cell_type": "code",
   "execution_count": 13,
   "metadata": {},
   "outputs": [],
   "source": [
    "step = Step()\n",
    "sigmoid = Sigmoid()\n",
    "tanh = Tanh()\n",
    "red =NeuronNetwork(4,[10, 5, 5],4,3, [sigmoid , tanh , sigmoid, sigmoid ])    "
   ]
  },
  {
   "cell_type": "code",
   "execution_count": 14,
   "metadata": {},
   "outputs": [
    {
     "name": "stdout",
     "output_type": "stream",
     "text": [
      ">epoch=0, lrate=0.100, error=0.016\n",
      ">epoch=1, lrate=0.100, error=0.015\n",
      ">epoch=2, lrate=0.100, error=0.013\n",
      ">epoch=3, lrate=0.100, error=0.012\n",
      ">epoch=4, lrate=0.100, error=0.012\n",
      ">epoch=5, lrate=0.100, error=0.013\n",
      ">epoch=6, lrate=0.100, error=0.013\n",
      ">epoch=7, lrate=0.100, error=0.013\n",
      ">epoch=8, lrate=0.100, error=0.011\n",
      ">epoch=9, lrate=0.100, error=0.008\n",
      ">epoch=10, lrate=0.100, error=0.009\n",
      ">epoch=11, lrate=0.100, error=0.010\n",
      ">epoch=12, lrate=0.100, error=0.011\n",
      "Valores del input deben ser numericos\n",
      "Valores del input deben ser numericos\n",
      "Valores del input deben ser numericos\n",
      "Valores del input deben ser numericos\n",
      "Valores del input deben ser numericos\n",
      "Valores del input deben ser numericos\n",
      "Valores del input deben ser numericos\n",
      "Valores del input deben ser numericos\n",
      "Valores del input deben ser numericos\n"
     ]
    },
    {
     "ename": "TypeError",
     "evalue": "unsupported operand type(s) for -: 'int' and 'NoneType'",
     "output_type": "error",
     "traceback": [
      "\u001b[1;31m---------------------------------------------------------------------------\u001b[0m",
      "\u001b[1;31mTypeError\u001b[0m                                 Traceback (most recent call last)",
      "\u001b[1;32m<ipython-input-14-e6c4a96dd568>\u001b[0m in \u001b[0;36m<module>\u001b[1;34m\u001b[0m\n\u001b[0;32m      1\u001b[0m \u001b[0mbatch\u001b[0m \u001b[1;33m=\u001b[0m \u001b[0mX_train\u001b[0m\u001b[1;33m.\u001b[0m\u001b[0mvalues\u001b[0m\u001b[1;33m.\u001b[0m\u001b[0mtolist\u001b[0m\u001b[1;33m(\u001b[0m\u001b[1;33m)\u001b[0m\u001b[1;33m\u001b[0m\u001b[1;33m\u001b[0m\u001b[0m\n\u001b[0;32m      2\u001b[0m \u001b[0mexpected\u001b[0m \u001b[1;33m=\u001b[0m \u001b[0my_train\u001b[0m\u001b[1;33m.\u001b[0m\u001b[0mvalues\u001b[0m\u001b[1;33m.\u001b[0m\u001b[0mtolist\u001b[0m\u001b[1;33m(\u001b[0m\u001b[1;33m)\u001b[0m\u001b[1;33m\u001b[0m\u001b[1;33m\u001b[0m\u001b[0m\n\u001b[1;32m----> 3\u001b[1;33m \u001b[0mred\u001b[0m\u001b[1;33m.\u001b[0m\u001b[0mtrain_network\u001b[0m\u001b[1;33m(\u001b[0m\u001b[0mbatch\u001b[0m\u001b[1;33m,\u001b[0m \u001b[0mexpected\u001b[0m\u001b[1;33m,\u001b[0m \u001b[1;36m0.1\u001b[0m\u001b[1;33m,\u001b[0m \u001b[1;36m15\u001b[0m\u001b[1;33m)\u001b[0m\u001b[1;33m\u001b[0m\u001b[1;33m\u001b[0m\u001b[0m\n\u001b[0m",
      "\u001b[1;32m<ipython-input-9-cee2d36eda7a>\u001b[0m in \u001b[0;36mtrain_network\u001b[1;34m(self, inputs, expected, lr, n_epoch, safe)\u001b[0m\n\u001b[0;32m     67\u001b[0m                 \u001b[1;32mfor\u001b[0m \u001b[0mi\u001b[0m \u001b[1;32min\u001b[0m \u001b[0mrange\u001b[0m\u001b[1;33m(\u001b[0m\u001b[0mlen\u001b[0m\u001b[1;33m(\u001b[0m\u001b[0my_real\u001b[0m\u001b[1;33m)\u001b[0m\u001b[1;33m)\u001b[0m\u001b[1;33m:\u001b[0m\u001b[1;33m\u001b[0m\u001b[1;33m\u001b[0m\u001b[0m\n\u001b[0;32m     68\u001b[0m                     \u001b[1;32mif\u001b[0m \u001b[0msafe\u001b[0m\u001b[1;33m:\u001b[0m\u001b[1;33m\u001b[0m\u001b[1;33m\u001b[0m\u001b[0m\n\u001b[1;32m---> 69\u001b[1;33m                         \u001b[0msum_error\u001b[0m \u001b[1;33m+=\u001b[0m \u001b[1;33m(\u001b[0m\u001b[0my_real\u001b[0m\u001b[1;33m[\u001b[0m\u001b[0mi\u001b[0m\u001b[1;33m]\u001b[0m\u001b[1;33m-\u001b[0m\u001b[0moutputs\u001b[0m\u001b[1;33m[\u001b[0m\u001b[0mi\u001b[0m\u001b[1;33m]\u001b[0m\u001b[1;33m)\u001b[0m\u001b[1;33m**\u001b[0m\u001b[1;36m2\u001b[0m\u001b[1;33m\u001b[0m\u001b[1;33m\u001b[0m\u001b[0m\n\u001b[0m\u001b[0;32m     70\u001b[0m \u001b[1;33m\u001b[0m\u001b[0m\n\u001b[0;32m     71\u001b[0m                 \u001b[0mself\u001b[0m\u001b[1;33m.\u001b[0m\u001b[0mbackpropagation\u001b[0m\u001b[1;33m(\u001b[0m\u001b[0my_real\u001b[0m\u001b[1;33m)\u001b[0m\u001b[1;33m\u001b[0m\u001b[1;33m\u001b[0m\u001b[0m\n",
      "\u001b[1;31mTypeError\u001b[0m: unsupported operand type(s) for -: 'int' and 'NoneType'"
     ]
    }
   ],
   "source": [
    "batch = X_train.values.tolist()\n",
    "expected = y_train.values.tolist()\n",
    "red.train_network(batch, expected, 0.1, 15)\n"
   ]
  },
  {
   "cell_type": "code",
   "execution_count": 15,
   "metadata": {},
   "outputs": [
    {
     "name": "stdout",
     "output_type": "stream",
     "text": [
      "Valores del input deben ser numericos\n",
      "Valores del input deben ser numericos\n",
      "Valores del input deben ser numericos\n",
      "Valores del input deben ser numericos\n",
      "Valores del input deben ser numericos\n",
      "Valores del input deben ser numericos\n",
      "Valores del input deben ser numericos\n",
      "Valores del input deben ser numericos\n",
      "Valores del input deben ser numericos\n"
     ]
    },
    {
     "data": {
      "text/plain": [
       "[None, None, None]"
      ]
     },
     "execution_count": 15,
     "metadata": {},
     "output_type": "execute_result"
    }
   ],
   "source": [
    "red.feed(batch[0])"
   ]
  },
  {
   "cell_type": "code",
   "execution_count": null,
   "metadata": {},
   "outputs": [],
   "source": []
  }
 ],
 "metadata": {
  "accelerator": "GPU",
  "colab": {
   "collapsed_sections": [],
   "name": "Copia de Tarea_1_CC6204_2019",
   "provenance": [],
   "version": "0.3.2"
  },
  "kernelspec": {
   "display_name": "Python 3",
   "language": "python",
   "name": "python3"
  },
  "language_info": {
   "codemirror_mode": {
    "name": "ipython",
    "version": 3
   },
   "file_extension": ".py",
   "mimetype": "text/x-python",
   "name": "python",
   "nbconvert_exporter": "python",
   "pygments_lexer": "ipython3",
   "version": "3.7.3"
  }
 },
 "nbformat": 4,
 "nbformat_minor": 1
}

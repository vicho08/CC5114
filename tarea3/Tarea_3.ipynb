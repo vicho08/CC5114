{
 "cells": [
  {
   "cell_type": "markdown",
   "metadata": {},
   "source": [
    "# Tarea 3\n",
    "### Vicente Illanes Venegas"
   ]
  },
  {
   "cell_type": "code",
   "execution_count": 1,
   "metadata": {},
   "outputs": [],
   "source": [
    "# para crear copias de los arboles\n",
    "from copy import deepcopy\n",
    "# random\n",
    "import random\n",
    "import operator, random, string\n",
    "import matplotlib.pyplot as plt"
   ]
  },
  {
   "cell_type": "code",
   "execution_count": 2,
   "metadata": {},
   "outputs": [],
   "source": [
    "# esta funcion dice si el argumento es una funcion o no\n",
    "def is_function(f):\n",
    "    return hasattr(f, \"__call__\")\n",
    "\n",
    "# esto nos permite recorrer una lista de a pedazos\n",
    "# ejemplo el input es [1,2,3,4,5,6,7,8]\n",
    "# con n=2 esta funcion nos hara tener\n",
    "# [(1,2), (3,4), (5,6), (7,8)]\n",
    "def chunks(iterable, n):\n",
    "    for i in range(0, len(iterable), n):\n",
    "        yield iterable[i:i + n]"
   ]
  },
  {
   "cell_type": "markdown",
   "metadata": {},
   "source": [
    "# Clase Nodo\n"
   ]
  },
  {
   "cell_type": "code",
   "execution_count": 3,
   "metadata": {},
   "outputs": [],
   "source": [
    "class Node:\n",
    "    def __init__(self, function):\n",
    "        # nos aseguramos que el nodo recibe una funcion\n",
    "        assert is_function(function)\n",
    "        self.operation = function\n",
    "        # esto nos permite contar cuantos argumentos recibe la funcion\n",
    "        self.num_arguments = function.__code__.co_argcount\n",
    "        self.arguments = []\n",
    "        \n",
    "    # funcion para evaluar un nodo (calcular el resultado)\n",
    "    def eval(self, dicc):\n",
    "        # es importante chequear que los argumentos que nos dieron\n",
    "        # coincidan con los argumentos que necesitamos\n",
    "        assert len(self.arguments) == self.num_arguments\n",
    "        # evaluamos los argumentos, y luego los pasamos como argumentos a\n",
    "        # la operacion\n",
    "        # NOTA: esto -> *[...] significa que separa los elementos de la lista\n",
    "        # ejemplo si tenemos `lista = [1,2,3]`\n",
    "        # print(lista) -> [1,2,3]\n",
    "        # print(*lista) -> 1 2 3\n",
    "        # esto se llama `unpacking`.\n",
    "        # lo necesitamos porque nuestra funcion recibe N argumentos\n",
    "        # no una lista de tamaño N.\n",
    "        return self.operation(*[node.eval(dicc) for node in self.arguments])\n",
    "    \n",
    "    # hace una lista con todos los hijos\n",
    "    def serialize(self):\n",
    "        l = [self]\n",
    "        for node in self.arguments:\n",
    "            l.extend(node.serialize())\n",
    "        return l\n",
    "    \n",
    "    # copia al nodo\n",
    "    def copy(self):\n",
    "        return deepcopy(self)\n",
    "    \n",
    "    # reemplaza el nodo por otro\n",
    "    def replace(self, otherNode):\n",
    "        # aqui estamos haciendo algo medio hacky.\n",
    "        # la forma correcta seria tener una referencia al nodo padre y\n",
    "        # reemplazarse a si mismo por otro.\n",
    "        # por temas de mantener el codigo corto lo hacemos asi\n",
    "        # pero no lo hagan en casa!\n",
    "        assert isinstance(otherNode, Node)\n",
    "        self.__class__ = otherNode.__class__\n",
    "        self.__dict__ = otherNode.__dict__\n",
    "        \n",
    "    \n"
   ]
  },
  {
   "cell_type": "code",
   "execution_count": 4,
   "metadata": {},
   "outputs": [],
   "source": [
    "# esta clase representa todos los nodos que tienen 2 argumentos\n",
    "class BinaryNode(Node):\n",
    "    num_args = 2\n",
    "    def __init__(self, function, left, right):\n",
    "        # revisamos que todo sea un nodo y agregamos a las lista de\n",
    "        # argumentos\n",
    "        assert isinstance(left, Node)\n",
    "        assert isinstance(right, Node)\n",
    "        super(BinaryNode, self).__init__(function)\n",
    "        self.arguments.append(left)\n",
    "        self.arguments.append(right)\n",
    "        \n",
    "    def terminals(self):\n",
    "        return self.arguments[0].terminals() + self.arguments[1].terminals()\n",
    "\n",
    "\n"
   ]
  },
  {
   "cell_type": "code",
   "execution_count": 5,
   "metadata": {},
   "outputs": [],
   "source": [
    "class AddNode(BinaryNode):\n",
    "    def __init__(self, left, right):\n",
    "        def _add(x,y):\n",
    "            return x + y\n",
    "        super(AddNode, self).__init__(_add, left, right)\n",
    "        \n",
    "    # esta es la funcion que define como se mostrara el nodo\n",
    "    # como es un nodo que REPResenta la suma, lo mostramos como suma\n",
    "    def __repr__(self):\n",
    "        return \"({} + {})\".format(*self.arguments)\n",
    "        \n",
    "    \n",
    "class SubNode(BinaryNode):\n",
    "    def __init__(self, left, right):\n",
    "        def _sub(x,y):\n",
    "            return x - y\n",
    "        super(SubNode, self).__init__(_sub, left, right)\n",
    "        \n",
    "    def __repr__(self):\n",
    "        return \"({} - {})\".format(*self.arguments)\n",
    "    \n",
    "    \n",
    "class MaxNode(BinaryNode):\n",
    "    def __init__(self, left, right):\n",
    "        def _max(x,y):\n",
    "            return max(x,y)\n",
    "        super(MaxNode, self).__init__(_max, left, right)\n",
    "        \n",
    "    def __repr__(self):\n",
    "        return \"max({{{}, {}}})\".format(*self.arguments)\n",
    "\n",
    "\n",
    "class MultNode(BinaryNode):\n",
    "    def __init__(self, left, right):\n",
    "        def _mult(x,y):\n",
    "            return x * y\n",
    "        super(MultNode, self).__init__(_mult, left, right)\n",
    "        \n",
    "    def __repr__(self):\n",
    "        return \"({} * {})\".format(*self.arguments)\n",
    "    \n",
    "    \n",
    "class TerminalNode(Node):\n",
    "    # Este nodo representa una hoja de arbol. Es el nodo terminal\n",
    "    # por lo que no tiene argumentos\n",
    "    num_args = 0\n",
    "    def __init__(self, value):\n",
    "        # igual tenemos que representarlo como una funcion, por como\n",
    "        # diseñamos el programa. Pero aqui va a ser una funcion vacia\n",
    "        def _nothind(): pass\n",
    "        super(TerminalNode, self).__init__(_nothind)\n",
    "        self.value = value\n",
    "        \n",
    "    def __repr__(self):  \n",
    "        return str(self.value)\n",
    "    \n",
    "    def eval(self, dicc):\n",
    "        #SOPORTAR VARIABLES\n",
    "        if isinstance(self.value, str):\n",
    "            return dicc[self.value]\n",
    "        # la evaluacion de un nodo terminal es el valor que contiene\n",
    "        return self.value\n",
    "    \n",
    "    def terminals(self):\n",
    "        return [self.value]"
   ]
  },
  {
   "cell_type": "markdown",
   "metadata": {},
   "source": [
    "## Generador de árboles aleatorio"
   ]
  },
  {
   "cell_type": "markdown",
   "metadata": {},
   "source": [
    "# AST"
   ]
  },
  {
   "cell_type": "code",
   "execution_count": 6,
   "metadata": {},
   "outputs": [],
   "source": [
    "# un AST es un arbol que representa un programa, la idea aqui es tener \n",
    "# un generador, que pueda generar ASTs aleatorios\n",
    "class AST:\n",
    "    def __init__(self, allowed_functions, allowed_terminals, prob_terminal=0.3):\n",
    "        # las funciones (nodos en nuestro caso) que nuestro programa puede tener\n",
    "        self.functions = allowed_functions\n",
    "        # los terminales admitidos en nuestro programa. Numeros por ejemplo\n",
    "        self.terminals = allowed_terminals\n",
    "        # para no tener un arbol infinitamente profundo, existe una posibilidad\n",
    "        # de que, a pesar de que ahora toque hacer otro sub arbol, que se ignore\n",
    "        # eso y se ponga un terminal en su lugar.\n",
    "        self.prob = prob_terminal\n",
    "\n",
    "    # esta funcion ya la hemos visto, nos permite llamar al AST como si fuera\n",
    "    # una funcion. max_depth es la produndidad que queremos tenga el arbol\n",
    "    def __call__(self, max_depth=10):\n",
    "        # aqui tenemos una funcion auxiliar. Nos permitira hacer esto recursivo\n",
    "        def create_rec_tree(depth):\n",
    "            # si `depth` es mayor a 0, nos toca crear un sub-arbol\n",
    "            if depth > 0:\n",
    "                # elegimos una funcion aleatoriamente\n",
    "                node_cls = random.choice(self.functions)\n",
    "                # aqui iremos dejando los argumentos que necesita la funcion\n",
    "                arguments = []\n",
    "                # para cada argumento que la funcion necesite...\n",
    "                for _ in range(node_cls.num_args):\n",
    "                    # existe un `prob` probabilidad de que no sigamos creando\n",
    "                    # sub-arboles y lleguemos y cortemos aqui para hacer\n",
    "                    # un nodo terminal\n",
    "                    if random.random() < self.prob:\n",
    "                        arguments.append(create_rec_tree(0))\n",
    "                    else:\n",
    "                        # la otra es seguir creando sub-arboles recursivamente\n",
    "                        arguments.append(create_rec_tree(depth - 1))\n",
    "                \n",
    "                # `arguments` es una lista y los nodos necesitan argumentos\n",
    "                # asi que hacemos \"unpacking\" de la lista\n",
    "                return node_cls(*arguments)\n",
    "            else:\n",
    "                # si `depth` es 0 entonces creamos un nodo terminal con\n",
    "                # alguno de los terminales permitidos que definimos inicialmente\n",
    "                return TerminalNode(random.choice(self.terminals))\n",
    "\n",
    "        # llamamos a la funcion auxiliar para crear un arbol de profundidad `max_depth`\n",
    "        return create_rec_tree(max_depth)"
   ]
  },
  {
   "cell_type": "code",
   "execution_count": 7,
   "metadata": {},
   "outputs": [],
   "source": [
    "#funcion de fitness: puntaje máximo numero objetivo, puntaje mínimo: 0\n",
    "#individual: representa un programa\n",
    "#goal: objetivo \n",
    "def fitness(individual, goal):\n",
    "    eval = individual.eval({})\n",
    "    return max(-abs(eval - goal) + goal, 0)\n",
    "\n",
    "#funcion de fitness que castiga repetición de terminales\n",
    "def fitness_repetion(individual, goal, ast):\n",
    "    for t in ast.terminals:\n",
    "        if(individual.terminals().count(t) > 1):\n",
    "            return 0\n",
    "    \n",
    "    eval = individual.eval({})\n",
    "    return max(-abs(eval - goal) + goal, 0)\n",
    "\n",
    "#funcion de fitness que castiga tamanio del programa\n",
    "def fitness2(individual, goal):\n",
    "    eval = individual.eval({})\n",
    "    return max(-abs(eval - goal) + goal - len(individual.serialize())/2, 0)\n",
    "\n",
    "def rank(population, fitness, goal):\n",
    "    fitnessResults = {}\n",
    "    for i in range(0,len(population)):\n",
    "        fitnessResults[i] = fitness(population[i], goal)\n",
    "    return sorted(fitnessResults.items(), key = operator.itemgetter(1), reverse= True)\n",
    "\n",
    "#Retorna una lista de los indices de los individuos seleccionados que dejaran herencia\n",
    "#ranking: lista de los individuos rankeados (indice, fitness)\n",
    "#elite: elitimismo\n",
    "def selection(ranking, elite):\n",
    "    selection = []\n",
    "    for i in range(0, elite):\n",
    "        selection.append(ranking[i][0])\n",
    "    \n",
    "    #Ruleta\n",
    "    #suma = 0\n",
    "    #for i in range(len(ranking)):\n",
    "    #  suma += ranking[i][1]  \n",
    "    #for i in range(0, len(ranking) - elite):\n",
    "    #  current = 0\n",
    "    #  p = random.uniform(0, suma)\n",
    "    #  for i in range(0, len(ranking)):\n",
    "    #    current += ranking[i][1]\n",
    "    #    if current > p:\n",
    "    #      selection.append(ranking[i][0])\n",
    "    #      break\n",
    "    \n",
    "    #torneo. se seleccionan 5 al azar, se agrega al mejor\n",
    "    for i in range(0, len(ranking) - elite):\n",
    "        better = int(random.uniform(0, len(ranking)))\n",
    "        for j in range(0, 4):\n",
    "            p = int(random.uniform(0, len(ranking)))\n",
    "            if ranking[better][1] > ranking[p][1]:\n",
    "                better = p\n",
    "        selection.append(ranking[better][0])\n",
    "    \n",
    "    return selection\n",
    "\n",
    "#Retorna lista definitiva de los elementos seleccionados para dejar una nueva generacion\n",
    "def selectionPopulation(population, selection):\n",
    "    parents = []\n",
    "     \n",
    "    for i in range(len(selection)):\n",
    "        index = selection[i]\n",
    "        parents.append(population[index])\n",
    "    \n",
    "    return parents\n"
   ]
  },
  {
   "cell_type": "code",
   "execution_count": 8,
   "metadata": {},
   "outputs": [],
   "source": [
    "#REPRODUCCION\n",
    "def crossover(parent1, parent2):\n",
    "    new_child = parent1.copy()\n",
    "    #genes para particion\n",
    "    genA = int(random.random() * len(parent1.serialize()))\n",
    "    genB = int(random.random() * len(parent2.serialize()))\n",
    "    \n",
    "    cross = (parent2.serialize()[genB]).copy()\n",
    "    \n",
    "    new_child.serialize()[genA].replace(cross)\n",
    "  \n",
    "    return new_child"
   ]
  },
  {
   "cell_type": "code",
   "execution_count": 9,
   "metadata": {},
   "outputs": [],
   "source": [
    "#retorna poblacion de descendientes  \n",
    "def crossoverPopulation(parents, elite):\n",
    "    children = []\n",
    "    length = len(parents) - elite\n",
    "    random_parents = random.sample(parents, len(parents))\n",
    "\n",
    "    for i in range(0,elite):\n",
    "        children.append(parents[i])\n",
    "    \n",
    "    for i in range(0, length):\n",
    "        child = crossover(random_parents[i], random_parents[len(parents) -i -1])\n",
    "        children.append(child)\n",
    "    return children"
   ]
  },
  {
   "cell_type": "code",
   "execution_count": 10,
   "metadata": {},
   "outputs": [],
   "source": [
    "#Muta un individuo\n",
    "#mutatioRate = tasa de mutacion\n",
    "#generate_gen = generador de genes\n",
    "\n",
    "def mutate(individual, generate_gen, mutationRate):\n",
    "    \n",
    "    actual = individual.copy()\n",
    "    if(random.random()<mutationRate):\n",
    "        actual = crossover(actual, generate_gen()) \n",
    "    return actual\n",
    "\n",
    "#Mutacion de una poblacion\n",
    "def mutatePopulation(population, generate_gen, mutationRate):\n",
    "  mutated = []\n",
    "  \n",
    "  for i in range(len(population)):\n",
    "    mutated.append(mutate(population[i], generate_gen, mutationRate))\n",
    "    \n",
    "  return mutated"
   ]
  },
  {
   "cell_type": "code",
   "execution_count": 11,
   "metadata": {},
   "outputs": [],
   "source": [
    "#Avanze de una generacion completo\n",
    "def evolution(currentPopulation, generate_gen, fitness, elite, mutationRate, goal):\n",
    "    ranking = rank(currentPopulation, fitness, goal)\n",
    "    selected = selection(ranking, elite)\n",
    "    parents = selectionPopulation(currentPopulation, selected)\n",
    "    children = crossoverPopulation(parents, elite)\n",
    "    nextPopulation = mutatePopulation(children, generate_gen, mutationRate)\n",
    "    return nextPopulation"
   ]
  },
  {
   "cell_type": "code",
   "execution_count": 12,
   "metadata": {},
   "outputs": [],
   "source": [
    "def average(ranking):\n",
    "  suma = 0\n",
    "  for i in range(len(ranking)):\n",
    "    suma += ranking[i][1]\n",
    "  return suma/ len(ranking)\n",
    "\n",
    "def genetic_algorithm(pop_size, fitness, generate_gen, elite, mutationRate, generations,deep= 10, goal=None, heatmap=False):\n",
    "    population = []\n",
    "    progress = []\n",
    "    worse = []\n",
    "    avg = []\n",
    "  \n",
    "    N = deep\n",
    "    \n",
    "    for i in range(0,pop_size):\n",
    "        population.append(generate_gen(N))\n",
    "      \n",
    "    initialRank = rank(population, fitness, goal)\n",
    "    progress.append(initialRank[0][1])\n",
    "    worse.append(initialRank[-1][1])\n",
    "    avg.append(average(initialRank))\n",
    "  \n",
    "    generation = generations\n",
    "    for i in range(0, generations):\n",
    "        population = evolution(population, generate_gen, fitness, elite, mutationRate, goal)\n",
    "        currentRank = rank(population, fitness, goal)\n",
    "        progress.append(currentRank[0][1])\n",
    "        worse.append(currentRank[-1][1])\n",
    "        avg.append(average(currentRank))\n",
    "        if(currentRank[0][1] == goal):\n",
    "            generation = i\n",
    "            break\n",
    "    \n",
    "    if(heatmap):\n",
    "        return generation\n",
    "    else:\n",
    "        print(population[currentRank[0][0]])\n",
    "        try: \n",
    "            print(population[currentRank[0][0]].eval({}))\n",
    "        except: \n",
    "            print(\"ecuacion\")\n",
    "        plt.plot(progress, \"b\", label=\"Progress\")\n",
    "        plt.plot(avg, \"g\", label=\"Average\")\n",
    "        plt.plot(worse, \"r\", label=\"Worse\")\n",
    "        plt.ylabel('Value')\n",
    "        plt.xlabel('Generation')\n",
    "        plt.title(\"Máximo, Mínimo y Promedio en el tiempo\")\n",
    "\n",
    "        legend = plt.legend(loc='best', shadow=True)\n",
    "        plt.show()\n",
    "    "
   ]
  },
  {
   "cell_type": "markdown",
   "metadata": {},
   "source": [
    "## Encontrar Numero\n",
    "Para este problema se tuvo que crear un método para el ast uniqueTerminal, el cual permite crear programas pero con la limitante de incluir 0 o 1 vez cada valor"
   ]
  },
  {
   "cell_type": "code",
   "execution_count": 13,
   "metadata": {},
   "outputs": [],
   "source": [
    "ast = AST([AddNode, SubNode, MultNode], [2,3, 5])"
   ]
  },
  {
   "cell_type": "code",
   "execution_count": 14,
   "metadata": {},
   "outputs": [
    {
     "name": "stdout",
     "output_type": "stream",
     "text": [
      "(5 * 2)\n",
      "10\n"
     ]
    },
    {
     "data": {
      "image/png": "[encoded data removed]",
      "text/plain": [
       "<Figure size 432x288 with 1 Axes>"
      ]
     },
     "metadata": {
      "needs_background": "light"
     },
     "output_type": "display_data"
    }
   ],
   "source": [
    "genetic_algorithm(100, lambda a, b: fitness_repetion(a,b,ast), ast, 5, mutationRate=0.3, generations=200, deep= 2, goal=10, heatmap=False)"
   ]
  },
  {
   "cell_type": "markdown",
   "metadata": {},
   "source": [
    "## Encontrar número. Sin límite de repeticiones"
   ]
  },
  {
   "cell_type": "code",
   "execution_count": 15,
   "metadata": {},
   "outputs": [],
   "source": [
    "ast = AST([AddNode, SubNode, MultNode, MaxNode], [25, 7, 8, 100, 4, 2])"
   ]
  },
  {
   "cell_type": "code",
   "execution_count": 16,
   "metadata": {},
   "outputs": [
    {
     "name": "stdout",
     "output_type": "stream",
     "text": [
      "((((7 * 7) * (8 * 25)) * 7) - ((8 * 7) + max({(25 * 7), 7})))\n",
      "68369\n"
     ]
    },
    {
     "data": {
      "image/png": "[encoded data removed]",
      "text/plain": [
       "<Figure size 432x288 with 1 Axes>"
      ]
     },
     "metadata": {
      "needs_background": "light"
     },
     "output_type": "display_data"
    }
   ],
   "source": [
    "genetic_algorithm(100, fitness2, ast, 10, mutationRate=0.3, generations=15, deep= 4, goal=65346, heatmap=False)"
   ]
  },
  {
   "cell_type": "markdown",
   "metadata": {},
   "source": [
    "## Sin Repeticiones"
   ]
  },
  {
   "cell_type": "code",
   "execution_count": 17,
   "metadata": {},
   "outputs": [
    {
     "name": "stdout",
     "output_type": "stream",
     "text": [
      "(2 * (max({4, (8 * 25)}) * 100))\n",
      "40000\n"
     ]
    },
    {
     "data": {
      "image/png": "[encoded data removed]",
      "text/plain": [
       "<Figure size 432x288 with 1 Axes>"
      ]
     },
     "metadata": {
      "needs_background": "light"
     },
     "output_type": "display_data"
    }
   ],
   "source": [
    "genetic_algorithm(100, lambda a, b: fitness_repetion(a,b,ast), ast, 10, mutationRate=0.3, generations=30, deep= 2, goal=65346, heatmap=False)"
   ]
  },
  {
   "cell_type": "markdown",
   "metadata": {},
   "source": [
    "## Implementar variables"
   ]
  },
  {
   "cell_type": "code",
   "execution_count": 18,
   "metadata": {},
   "outputs": [],
   "source": [
    "ast = AST([AddNode, SubNode, MultNode], [25, 7, 8, 100, 4, 2, 'x'])"
   ]
  },
  {
   "cell_type": "code",
   "execution_count": 19,
   "metadata": {},
   "outputs": [
    {
     "data": {
      "text/plain": [
       "(((2 * 2) * (4 - 4)) + ((8 + 4) - (4 * x)))"
      ]
     },
     "execution_count": 19,
     "metadata": {},
     "output_type": "execute_result"
    }
   ],
   "source": [
    "r = ast(3)\n",
    "r"
   ]
  },
  {
   "cell_type": "code",
   "execution_count": 20,
   "metadata": {},
   "outputs": [
    {
     "data": {
      "text/plain": [
       "-4"
      ]
     },
     "execution_count": 20,
     "metadata": {},
     "output_type": "execute_result"
    }
   ],
   "source": [
    "r.eval({'x' : 4, 'y': 0})"
   ]
  },
  {
   "cell_type": "markdown",
   "metadata": {},
   "source": [
    "## Symbolic Regression"
   ]
  },
  {
   "cell_type": "code",
   "execution_count": 21,
   "metadata": {},
   "outputs": [],
   "source": [
    "def f(x):\n",
    "    return x*x + x - 6\n",
    "\n",
    "def fitness_func(individual, goal, func_goal):\n",
    "    points= 0    \n",
    "    for i in range(-100, 100):\n",
    "        val = func_goal(i)\n",
    "        try:\n",
    "            aprox = individual.eval({'x': i})\n",
    "        except:\n",
    "            return 0\n",
    "        if abs(val - aprox) < 1:\n",
    "            points += 1\n",
    "    return points\n",
    "        "
   ]
  },
  {
   "cell_type": "code",
   "execution_count": 22,
   "metadata": {},
   "outputs": [
    {
     "name": "stdout",
     "output_type": "stream",
     "text": [
      "(((((x * ((x + x) + (4 - x))) + ((x + ((((((((8 * (8 * -5)) * 0) - (x * ((x - x) - (x + x)))) + ((((x + 7) - x) + ((x * x) - (-8 * x))) - (-10 * 2))) - 4) - 2) + ((-5 * -1) - -9)) - (((3 * ((x - -2) + (-6 + 2))) + (-9 + 6)) * x))) - ((x + (((-2 * 3) * x) * (x - (x - 7)))) - (x - -8)))) - ((((1 - (x + x)) * 4) * ((x * x) - x)) - (((-5 + x) * ((((-6 + x) * (x - (x * x))) - (2 + (10 - x))) + (8 + (-8 - (x * 9))))) + ((((x + (7 + 4)) * ((-7 * -4) - (x + x))) * (((x + x) + (8 - -1)) * (7 * (x * x)))) - 1)))) * (x + x)) * (x - x))\n",
      "ecuacion\n"
     ]
    },
    {
     "data": {
      "image/png": "[encoded data removed]",
      "text/plain": [
       "<Figure size 432x288 with 1 Axes>"
      ]
     },
     "metadata": {
      "needs_background": "light"
     },
     "output_type": "display_data"
    }
   ],
   "source": [
    "ast = AST([AddNode, SubNode, MultNode], [-10, -9, -8, -7, -6, -5, -4,-3, -2, -1, 0, 1, 2, 3, 4, 5, 6, 7 , 8, 9, 10, 'x', 'x', 'x', 'x', 'x', 'x', 'x', 'x', 'x', 'x', 'x', 'x', 'x', 'x', 'x', 'x', 'x', 'x', 'x', 'x', 'x'])\n",
    "genetic_algorithm(100, lambda a,b: fitness_func(a,b,f), ast, 10, mutationRate=0.3, generations=30, deep= 10, goal=200, heatmap=False)"
   ]
  },
  {
   "cell_type": "markdown",
   "metadata": {},
   "source": [
    "## Implementacion Division"
   ]
  },
  {
   "cell_type": "code",
   "execution_count": 23,
   "metadata": {},
   "outputs": [],
   "source": [
    "import math\n",
    "class DivNode(BinaryNode):\n",
    "    def __init__(self, left, right):\n",
    "        def _div(x,y):\n",
    "                return x / y\n",
    "        super(DivNode, self).__init__(_div, left, right)\n",
    "        \n",
    "    def __repr__(self):\n",
    "        return \"({} / {})\".format(*self.arguments)"
   ]
  },
  {
   "cell_type": "code",
   "execution_count": 24,
   "metadata": {},
   "outputs": [
    {
     "name": "stdout",
     "output_type": "stream",
     "text": [
      "((((-4 + (-6 + -1)) / 1) - -5) - ((x - (x + x)) - (x * x)))\n",
      "ecuacion\n"
     ]
    },
    {
     "data": {
      "image/png": "[encoded data removed]",
      "text/plain": [
       "<Figure size 432x288 with 1 Axes>"
      ]
     },
     "metadata": {
      "needs_background": "light"
     },
     "output_type": "display_data"
    }
   ],
   "source": [
    "ast = AST([AddNode, SubNode, MultNode, DivNode], [-10, -9, -8, -7, -6, -5, -4,-3, -2, -1, 0, 1, 2, 3, 4, 5, 6, 7 , 8, 9, 10, 'x', 'x', 'x', 'x', 'x', 'x', 'x', 'x', 'x', 'x', 'x', 'x', 'x', 'x', 'x', 'x', 'x', 'x', 'x', 'x', 'x'])\n",
    "genetic_algorithm(200, lambda a,b: fitness_func(a,b,f), ast, 10, mutationRate=0.3, generations=40, deep= 5, goal=200, heatmap=False)\n"
   ]
  },
  {
   "cell_type": "code",
   "execution_count": 25,
   "metadata": {},
   "outputs": [],
   "source": [
    "def heatmap():\n",
    "    i = 50\n",
    "    size = []\n",
    "    generations = []\n",
    "    ast = AST([AddNode, SubNode, MultNode], [25, 7, 8, 100, 4, 2, 3])\n",
    "    while(i <= 1000):\n",
    "        size.append(i)        \n",
    "        generations.append(genetic_algorithm(i, lambda a, b: fitness_repetion(a,b,ast), ast, 10, mutationRate=0.3, generations=100, deep= 2, goal=375, heatmap=True))\n",
    "        i+=50\n",
    "        print(i)\n",
    "    \n",
    "    plt.plot(size, generations,color='r', label='Tiempo')\n",
    "    plt.ylabel('Generation')\n",
    "    plt.xlabel('Population Size')\n",
    "    plt.title(\"Generación de éxito v/s tamaño de la población\")\n",
    "  \n",
    "    plt.show()"
   ]
  },
  {
   "cell_type": "code",
   "execution_count": 27,
   "metadata": {},
   "outputs": [
    {
     "name": "stdout",
     "output_type": "stream",
     "text": [
      "100\n",
      "150\n",
      "200\n",
      "250\n",
      "300\n",
      "350\n",
      "400\n",
      "450\n",
      "500\n",
      "550\n",
      "600\n",
      "650\n",
      "700\n",
      "750\n",
      "800\n",
      "850\n",
      "900\n",
      "950\n",
      "1000\n",
      "1050\n"
     ]
    },
    {
     "data": {
      "image/png": "[encoded data removed]",
      "text/plain": [
       "<Figure size 432x288 with 1 Axes>"
      ]
     },
     "metadata": {
      "needs_background": "light"
     },
     "output_type": "display_data"
    }
   ],
   "source": [
    "heatmap()"
   ]
  },
  {
   "cell_type": "code",
   "execution_count": 30,
   "metadata": {},
   "outputs": [],
   "source": [
    "def heatmap2():\n",
    "    i = 0.0\n",
    "    size = []\n",
    "    generations = []\n",
    "    ast = AST([AddNode, SubNode, MultNode], [25, 7, 8, 100, 4, 2, 3])\n",
    "    while(i <= 1):\n",
    "        size.append(i)        \n",
    "        generations.append(genetic_algorithm(250, lambda a, b: fitness_repetion(a,b,ast), ast, 10, mutationRate=i, generations=100, deep= 2, goal=375, heatmap=True))\n",
    "        i+=0.1\n",
    "        print(i)\n",
    "    \n",
    "    plt.plot(size, generations,color='r', label='Tiempo')\n",
    "    plt.ylabel('Generation')\n",
    "    plt.xlabel('Population Size')\n",
    "    plt.title(\"Generación de éxito v/s tasa de mutación\")\n",
    "  \n",
    "    plt.show()"
   ]
  },
  {
   "cell_type": "code",
   "execution_count": 31,
   "metadata": {},
   "outputs": [
    {
     "name": "stdout",
     "output_type": "stream",
     "text": [
      "0.1\n",
      "0.2\n",
      "0.30000000000000004\n",
      "0.4\n",
      "0.5\n",
      "0.6\n",
      "0.7\n",
      "0.7999999999999999\n",
      "0.8999999999999999\n",
      "0.9999999999999999\n",
      "1.0999999999999999\n"
     ]
    },
    {
     "data": {
      "image/png": "[encoded data removed]",
      "text/plain": [
       "<Figure size 432x288 with 1 Axes>"
      ]
     },
     "metadata": {
      "needs_background": "light"
     },
     "output_type": "display_data"
    }
   ],
   "source": [
    "heatmap2()"
   ]
  },
  {
   "cell_type": "code",
   "execution_count": null,
   "metadata": {},
   "outputs": [],
   "source": []
  }
 ],
 "metadata": {
  "kernelspec": {
   "display_name": "Python 3",
   "language": "python",
   "name": "python3"
  },
  "language_info": {
   "codemirror_mode": {
    "name": "ipython",
    "version": 3
   },
   "file_extension": ".py",
   "mimetype": "text/x-python",
   "name": "python",
   "nbconvert_exporter": "python",
   "pygments_lexer": "ipython3",
   "version": "3.7.3"
  }
 },
 "nbformat": 4,
 "nbformat_minor": 2
}
